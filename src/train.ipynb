{
 "cells": [
  {
   "cell_type": "markdown",
   "metadata": {},
   "source": [
    "# Libraries"
   ]
  },
  {
   "cell_type": "code",
   "execution_count": 15,
   "metadata": {},
   "outputs": [],
   "source": [
    "import numpy as np\n",
    "import pandas as pd\n",
    "import matplotlib.pyplot as plt\n",
    "import os\n",
    "\n",
    "from config import *\n",
    "\n",
    "from keras.layers import LSTM, Dense, Dropout\n",
    "from keras.models import Sequential\n",
    "\n",
    "from sklearn.model_selection import train_test_split"
   ]
  },
  {
   "cell_type": "markdown",
   "metadata": {},
   "source": [
    "# Read data"
   ]
  },
  {
   "cell_type": "code",
   "execution_count": 16,
   "metadata": {},
   "outputs": [
    {
     "name": "stdout",
     "output_type": "stream",
     "text": [
      "Classes: ['Eye_cover', 'Idle', 'Swing_hand', 'W_hand']\n",
      "          0         1         2         3         4         5         6  \\\n",
      "0  0.565088  0.486628 -1.454600  0.998598  0.595906  0.421384 -1.366111   \n",
      "1  0.560797  0.486507 -0.798694  0.998734  0.591997  0.417369 -0.734179   \n",
      "2  0.555143  0.485822 -0.752496  0.998854  0.586899  0.414073 -0.694277   \n",
      "\n",
      "          7         8         9  ...       122       123       124       125  \\\n",
      "0  0.997587  0.616399  0.423681  ...  0.190608  0.000433  0.759767  3.451916   \n",
      "1  0.997820  0.611810  0.417659  ...  1.072129  0.000390  0.759446  3.431489   \n",
      "2  0.998024  0.606346  0.413350  ...  1.096612  0.000352  0.754640  3.414611   \n",
      "\n",
      "        126       127       128       129       130       131  \n",
      "0 -0.169443  0.000873  0.535946  3.427131 -0.632427  0.001365  \n",
      "1  0.105993  0.000787  0.535968  3.418618  0.347696  0.001230  \n",
      "2  0.146300  0.000710  0.530272  3.408900  0.389341  0.001108  \n",
      "\n",
      "[3 rows x 132 columns]\n"
     ]
    }
   ],
   "source": [
    "data_dir = '../data'\n",
    "files = os.listdir(data_dir)\n",
    "\n",
    "classes = []\n",
    "for path in files:\n",
    "    classes.append(path.split('.')[0])\n",
    "list.sort(classes)\n",
    "\n",
    "\n",
    "df = {}\n",
    "for className in classes:\n",
    "    df[className] = pd.read_csv(os.path.join(data_dir,className+\".csv\"))\n",
    "\n",
    "print(\"Classes: {}\".format(classes))\n",
    "print(df[classes[0]].head(3))"
   ]
  },
  {
   "cell_type": "markdown",
   "metadata": {},
   "source": [
    "# Create train X, Y"
   ]
  },
  {
   "cell_type": "code",
   "execution_count": 17,
   "metadata": {},
   "outputs": [
    {
     "name": "stdout",
     "output_type": "stream",
     "text": [
      "X shape: (2360, 10, 132)\n",
      "y shape: (2360, 4)\n"
     ]
    }
   ],
   "source": [
    "nClass = len(classes)\n",
    "\n",
    "X = []\n",
    "y = []\n",
    "\n",
    "for idx, className in enumerate(classes):\n",
    "    nSample = len(df[className])\n",
    "    for start in range(nSample-N_TIME):\n",
    "        X.append(df[className].iloc[start:start+N_TIME,:])\n",
    "        one_hot = [0]*nClass\n",
    "        one_hot[idx] = 1\n",
    "        y.append(one_hot)\n",
    "\n",
    "X, y = np.array(X), np.array(y)\n",
    "\n",
    "print(\"X shape: {}\".format(X.shape))\n",
    "print(\"y shape: {}\".format(y.shape))"
   ]
  },
  {
   "cell_type": "markdown",
   "metadata": {},
   "source": [
    "# Train test split"
   ]
  },
  {
   "cell_type": "code",
   "execution_count": 18,
   "metadata": {},
   "outputs": [
    {
     "name": "stdout",
     "output_type": "stream",
     "text": [
      "[Train]\n",
      "X shape: (1888, 10, 132)\n",
      "y shape: (1888, 4)\n",
      "[Test]\n",
      "X shape: (472, 10, 132)\n",
      "y shape: (472, 4)\n"
     ]
    }
   ],
   "source": [
    "X_train, X_test, y_train, y_test = train_test_split(X, y, test_size = 0.2)\n",
    "\n",
    "print(\"[Train]\")\n",
    "print(\"X shape: {}\".format(X_train.shape))\n",
    "print(\"y shape: {}\".format(y_train.shape))\n",
    "\n",
    "print(\"[Test]\")\n",
    "print(\"X shape: {}\".format(X_test.shape))\n",
    "print(\"y shape: {}\".format(y_test.shape))"
   ]
  },
  {
   "cell_type": "markdown",
   "metadata": {},
   "source": [
    "# Modeling"
   ]
  },
  {
   "cell_type": "code",
   "execution_count": 19,
   "metadata": {},
   "outputs": [
    {
     "name": "stdout",
     "output_type": "stream",
     "text": [
      "Model: \"sequential_2\"\n",
      "_________________________________________________________________\n",
      " Layer (type)                Output Shape              Param #   \n",
      "=================================================================\n",
      " lstm_8 (LSTM)               (None, 10, 50)            36600     \n",
      "                                                                 \n",
      " dropout_8 (Dropout)         (None, 10, 50)            0         \n",
      "                                                                 \n",
      " lstm_9 (LSTM)               (None, 10, 50)            20200     \n",
      "                                                                 \n",
      " dropout_9 (Dropout)         (None, 10, 50)            0         \n",
      "                                                                 \n",
      " lstm_10 (LSTM)              (None, 10, 50)            20200     \n",
      "                                                                 \n",
      " dropout_10 (Dropout)        (None, 10, 50)            0         \n",
      "                                                                 \n",
      " lstm_11 (LSTM)              (None, 50)                20200     \n",
      "                                                                 \n",
      " dropout_11 (Dropout)        (None, 50)                0         \n",
      "                                                                 \n",
      " dense_2 (Dense)             (None, 4)                 204       \n",
      "                                                                 \n",
      "=================================================================\n",
      "Total params: 97,404\n",
      "Trainable params: 97,404\n",
      "Non-trainable params: 0\n",
      "_________________________________________________________________\n"
     ]
    }
   ],
   "source": [
    "model = Sequential([\n",
    "    LSTM(units = 50, return_sequences = True, input_shape=(X_train.shape[1], X_train.shape[2])),\n",
    "    Dropout(0.2),\n",
    "    LSTM(units = 50, return_sequences = True),\n",
    "    Dropout(0.2),\n",
    "    LSTM(units = 50, return_sequences = True),\n",
    "    Dropout(0.2),\n",
    "    LSTM(units = 50),\n",
    "    Dropout(0.2),\n",
    "    Dense(units = len(classes), activation='softmax')\n",
    "])\n",
    "\n",
    "model.compile(\n",
    "    optimizer = 'adam',\n",
    "    metrics = ['accuracy'],\n",
    "    loss = 'categorical_crossentropy'\n",
    ")\n",
    "model.summary()"
   ]
  },
  {
   "cell_type": "markdown",
   "metadata": {},
   "source": [
    "# Training process"
   ]
  },
  {
   "cell_type": "code",
   "execution_count": 20,
   "metadata": {},
   "outputs": [
    {
     "name": "stdout",
     "output_type": "stream",
     "text": [
      "Epoch 1/32\n",
      "30/30 [==============================] - 6s 58ms/step - loss: 0.8242 - accuracy: 0.7442 - val_loss: 0.2691 - val_accuracy: 0.9619\n",
      "Epoch 2/32\n",
      "30/30 [==============================] - 1s 21ms/step - loss: 0.1823 - accuracy: 0.9608 - val_loss: 0.1741 - val_accuracy: 0.9534\n",
      "Epoch 3/32\n",
      "30/30 [==============================] - 1s 20ms/step - loss: 0.1338 - accuracy: 0.9640 - val_loss: 0.1871 - val_accuracy: 0.9534\n",
      "Epoch 4/32\n",
      "30/30 [==============================] - 1s 20ms/step - loss: 0.1824 - accuracy: 0.9523 - val_loss: 0.1963 - val_accuracy: 0.9449\n",
      "Epoch 5/32\n",
      "30/30 [==============================] - 1s 20ms/step - loss: 0.1387 - accuracy: 0.9613 - val_loss: 0.1299 - val_accuracy: 0.9619\n",
      "Epoch 6/32\n",
      "30/30 [==============================] - 1s 20ms/step - loss: 0.1143 - accuracy: 0.9672 - val_loss: 0.1432 - val_accuracy: 0.9597\n",
      "Epoch 7/32\n",
      "30/30 [==============================] - 1s 20ms/step - loss: 0.1259 - accuracy: 0.9666 - val_loss: 0.1532 - val_accuracy: 0.9555\n",
      "Epoch 8/32\n",
      "30/30 [==============================] - 1s 22ms/step - loss: 0.1182 - accuracy: 0.9672 - val_loss: 0.1333 - val_accuracy: 0.9619\n",
      "Epoch 9/32\n",
      "30/30 [==============================] - 1s 20ms/step - loss: 0.1090 - accuracy: 0.9677 - val_loss: 0.1207 - val_accuracy: 0.9640\n",
      "Epoch 10/32\n",
      "30/30 [==============================] - 1s 20ms/step - loss: 0.1013 - accuracy: 0.9719 - val_loss: 0.1387 - val_accuracy: 0.9619\n",
      "Epoch 11/32\n",
      "30/30 [==============================] - 1s 21ms/step - loss: 0.1093 - accuracy: 0.9682 - val_loss: 0.1152 - val_accuracy: 0.9640\n",
      "Epoch 12/32\n",
      "30/30 [==============================] - 1s 21ms/step - loss: 0.0966 - accuracy: 0.9714 - val_loss: 0.1005 - val_accuracy: 0.9661\n",
      "Epoch 13/32\n",
      "30/30 [==============================] - 1s 21ms/step - loss: 0.0958 - accuracy: 0.9703 - val_loss: 0.0967 - val_accuracy: 0.9661\n",
      "Epoch 14/32\n",
      "30/30 [==============================] - 1s 21ms/step - loss: 0.1135 - accuracy: 0.9661 - val_loss: 0.1532 - val_accuracy: 0.9555\n",
      "Epoch 15/32\n",
      "30/30 [==============================] - 1s 21ms/step - loss: 0.1280 - accuracy: 0.9672 - val_loss: 0.1309 - val_accuracy: 0.9576\n",
      "Epoch 16/32\n",
      "30/30 [==============================] - 1s 21ms/step - loss: 0.1206 - accuracy: 0.9650 - val_loss: 0.1185 - val_accuracy: 0.9661\n",
      "Epoch 17/32\n",
      "30/30 [==============================] - 1s 22ms/step - loss: 0.1051 - accuracy: 0.9682 - val_loss: 0.1147 - val_accuracy: 0.9640\n",
      "Epoch 18/32\n",
      "30/30 [==============================] - 1s 20ms/step - loss: 0.1027 - accuracy: 0.9698 - val_loss: 0.1241 - val_accuracy: 0.9640\n",
      "Epoch 19/32\n",
      "30/30 [==============================] - 1s 22ms/step - loss: 0.0824 - accuracy: 0.9714 - val_loss: 0.1036 - val_accuracy: 0.9513\n",
      "Epoch 20/32\n",
      "30/30 [==============================] - 1s 20ms/step - loss: 0.0657 - accuracy: 0.9740 - val_loss: 0.1273 - val_accuracy: 0.9661\n",
      "Epoch 21/32\n",
      "30/30 [==============================] - 1s 20ms/step - loss: 0.0394 - accuracy: 0.9905 - val_loss: 0.0154 - val_accuracy: 0.9958\n",
      "Epoch 22/32\n",
      "30/30 [==============================] - 1s 20ms/step - loss: 0.0651 - accuracy: 0.9841 - val_loss: 0.1461 - val_accuracy: 0.9661\n",
      "Epoch 23/32\n",
      "30/30 [==============================] - 1s 21ms/step - loss: 0.0915 - accuracy: 0.9725 - val_loss: 0.0931 - val_accuracy: 0.9682\n",
      "Epoch 24/32\n",
      "30/30 [==============================] - 1s 21ms/step - loss: 0.0852 - accuracy: 0.9756 - val_loss: 0.0849 - val_accuracy: 0.9725\n",
      "Epoch 25/32\n",
      "30/30 [==============================] - 1s 21ms/step - loss: 0.0891 - accuracy: 0.9751 - val_loss: 0.1125 - val_accuracy: 0.9661\n",
      "Epoch 26/32\n",
      "30/30 [==============================] - 1s 22ms/step - loss: 0.0903 - accuracy: 0.9730 - val_loss: 0.0943 - val_accuracy: 0.9682\n",
      "Epoch 27/32\n",
      "30/30 [==============================] - 1s 21ms/step - loss: 0.0995 - accuracy: 0.9698 - val_loss: 0.1111 - val_accuracy: 0.9725\n",
      "Epoch 28/32\n",
      "30/30 [==============================] - 1s 21ms/step - loss: 0.1095 - accuracy: 0.9693 - val_loss: 0.0910 - val_accuracy: 0.9640\n",
      "Epoch 29/32\n",
      "30/30 [==============================] - 1s 22ms/step - loss: 0.0662 - accuracy: 0.9778 - val_loss: 0.0363 - val_accuracy: 0.9936\n",
      "Epoch 30/32\n",
      "30/30 [==============================] - 1s 20ms/step - loss: 0.0786 - accuracy: 0.9762 - val_loss: 0.1277 - val_accuracy: 0.9703\n",
      "Epoch 31/32\n",
      "30/30 [==============================] - 1s 21ms/step - loss: 0.0881 - accuracy: 0.9762 - val_loss: 0.0839 - val_accuracy: 0.9725\n",
      "Epoch 32/32\n",
      "30/30 [==============================] - 1s 24ms/step - loss: 0.0855 - accuracy: 0.9719 - val_loss: 0.1484 - val_accuracy: 0.9640\n"
     ]
    }
   ],
   "source": [
    "trainingRet = model.fit(\n",
    "    X_train, \n",
    "    y_train,\n",
    "    epochs = N_EPOCH,\n",
    "    batch_size = BATCH_SIZE,\n",
    "    validation_data=(X_test, y_test)\n",
    ")\n",
    "\n",
    "model.save('../models/best.h5')"
   ]
  },
  {
   "cell_type": "markdown",
   "metadata": {},
   "source": [
    "# Plot result"
   ]
  },
  {
   "cell_type": "code",
   "execution_count": 21,
   "metadata": {},
   "outputs": [
    {
     "data": {
      "image/png": "[encoded data removed]",
      "text/plain": [
       "<Figure size 1440x576 with 2 Axes>"
      ]
     },
     "metadata": {
      "needs_background": "light"
     },
     "output_type": "display_data"
    }
   ],
   "source": [
    "hist = trainingRet.history\n",
    "\n",
    "fig, ax = plt.subplots(1, 2, figsize=(20,8))\n",
    "epochs = range(1,N_EPOCH+1)\n",
    "\n",
    "ax[0].plot(epochs,hist['loss'])\n",
    "ax[0].plot(epochs,hist['val_loss'])\n",
    "ax[0].set_ylabel('Loss')\n",
    "ax[0].set_xlabel('Epoch')\n",
    "ax[0].legend(['Train','Test'])\n",
    "\n",
    "ax[1].plot(epochs,hist['accuracy'])\n",
    "ax[1].plot(epochs,hist['val_accuracy'])\n",
    "ax[1].set_ylabel('Acc (%)')\n",
    "ax[1].set_xlabel('Epoch')\n",
    "ax[1].legend(['Train','Test'])\n",
    "\n",
    "plt.show()"
   ]
  }
 ],
 "metadata": {
  "interpreter": {
   "hash": "6b98338bfbd6b20524f8c43b3aa7091e5be3fcc4aaa5313693ceb3747d2cf536"
  },
  "kernelspec": {
   "display_name": "Python 3.9.9 64-bit",
   "language": "python",
   "name": "python3"
  },
  "language_info": {
   "codemirror_mode": {
    "name": "ipython",
    "version": 3
   },
   "file_extension": ".py",
   "mimetype": "text/x-python",
   "name": "python",
   "nbconvert_exporter": "python",
   "pygments_lexer": "ipython3",
   "version": "3.9.9"
  },
  "orig_nbformat": 4
 },
 "nbformat": 4,
 "nbformat_minor": 2
}
