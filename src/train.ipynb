{
 "cells": [
  {
   "cell_type": "markdown",
   "metadata": {},
   "source": [
    "# Libraries"
   ]
  },
  {
   "cell_type": "code",
   "execution_count": 11,
   "metadata": {},
   "outputs": [],
   "source": [
    "import numpy as np\n",
    "import pandas as pd\n",
    "import matplotlib.pyplot as plt\n",
    "import os\n",
    "\n",
    "from config import *\n",
    "\n",
    "from keras.layers import LSTM, Dense, Dropout\n",
    "from keras.models import Sequential\n",
    "\n",
    "from sklearn.model_selection import train_test_split"
   ]
  },
  {
   "cell_type": "markdown",
   "metadata": {},
   "source": [
    "# Read data"
   ]
  },
  {
   "cell_type": "code",
   "execution_count": 12,
   "metadata": {},
   "outputs": [
    {
     "name": "stdout",
     "output_type": "stream",
     "text": [
      "Classes: ['Nod_head', 'Swing_hand']\n",
      "          0         1         2         3         4         5         6  \\\n",
      "0  0.556895  0.557111 -1.274520  0.999868  0.594925  0.477804 -1.205467   \n",
      "1  0.548052  0.568032 -1.272724  0.999861  0.586772  0.487091 -1.210947   \n",
      "2  0.539867  0.573619 -1.332037  0.999856  0.579916  0.490168 -1.285937   \n",
      "\n",
      "          7         8         9  ...       122       123       124       125  \\\n",
      "0  0.999792  0.616753  0.476875  ...  0.984213  0.000015  0.708581  3.222181   \n",
      "1  0.999775  0.608110  0.486257  ...  0.992125  0.000015  0.701866  3.202845   \n",
      "2  0.999762  0.601918  0.489280  ...  1.322206  0.000016  0.701669  3.201613   \n",
      "\n",
      "        126       127       128       129       130       131  \n",
      "0  0.291900  0.000062  0.499230  3.212415  0.171246  0.000054  \n",
      "1  0.145340  0.000063  0.500012  3.201835  0.219709  0.000055  \n",
      "2  0.210095  0.000062  0.504857  3.201983  0.530774  0.000056  \n",
      "\n",
      "[3 rows x 132 columns]\n"
     ]
    }
   ],
   "source": [
    "data_dir = '../data'\n",
    "files = os.listdir(data_dir)\n",
    "\n",
    "classes = []\n",
    "for path in files:\n",
    "    classes.append(path.split('.')[0])\n",
    "list.sort(classes)\n",
    "\n",
    "\n",
    "df = {}\n",
    "for className in classes:\n",
    "    df[className] = pd.read_csv(os.path.join(data_dir,className+\".csv\"))\n",
    "\n",
    "print(\"Classes: {}\".format(classes))\n",
    "print(df[classes[0]].head(3))"
   ]
  },
  {
   "cell_type": "markdown",
   "metadata": {},
   "source": [
    "# Create train X, Y"
   ]
  },
  {
   "cell_type": "code",
   "execution_count": 13,
   "metadata": {},
   "outputs": [
    {
     "name": "stdout",
     "output_type": "stream",
     "text": [
      "X shape: (1180, 10, 132)\n",
      "y shape: (1180, 2)\n"
     ]
    }
   ],
   "source": [
    "nClass = len(classes)\n",
    "\n",
    "X = []\n",
    "y = []\n",
    "\n",
    "for idx, className in enumerate(classes):\n",
    "    nSample = len(df[className])\n",
    "    for start in range(nSample-N_TIME):\n",
    "        X.append(df[className].iloc[start:start+N_TIME,:])\n",
    "        one_hot = [0]*nClass\n",
    "        one_hot[idx] = 1\n",
    "        y.append(one_hot)\n",
    "\n",
    "X, y = np.array(X), np.array(y)\n",
    "\n",
    "print(\"X shape: {}\".format(X.shape))\n",
    "print(\"y shape: {}\".format(y.shape))"
   ]
  },
  {
   "cell_type": "markdown",
   "metadata": {},
   "source": [
    "# Train test split"
   ]
  },
  {
   "cell_type": "code",
   "execution_count": 14,
   "metadata": {},
   "outputs": [
    {
     "name": "stdout",
     "output_type": "stream",
     "text": [
      "[Train]\n",
      "X shape: (944, 10, 132)\n",
      "y shape: (944, 2)\n",
      "[Test]\n",
      "X shape: (236, 10, 132)\n",
      "y shape: (236, 2)\n"
     ]
    }
   ],
   "source": [
    "X_train, X_test, y_train, y_test = train_test_split(X, y, test_size = 0.2)\n",
    "\n",
    "print(\"[Train]\")\n",
    "print(\"X shape: {}\".format(X_train.shape))\n",
    "print(\"y shape: {}\".format(y_train.shape))\n",
    "\n",
    "print(\"[Test]\")\n",
    "print(\"X shape: {}\".format(X_test.shape))\n",
    "print(\"y shape: {}\".format(y_test.shape))"
   ]
  },
  {
   "cell_type": "markdown",
   "metadata": {},
   "source": [
    "# Modeling"
   ]
  },
  {
   "cell_type": "code",
   "execution_count": 15,
   "metadata": {},
   "outputs": [
    {
     "name": "stdout",
     "output_type": "stream",
     "text": [
      "Model: \"sequential_1\"\n",
      "_________________________________________________________________\n",
      " Layer (type)                Output Shape              Param #   \n",
      "=================================================================\n",
      " lstm_4 (LSTM)               (None, 10, 50)            36600     \n",
      "                                                                 \n",
      " dropout_4 (Dropout)         (None, 10, 50)            0         \n",
      "                                                                 \n",
      " lstm_5 (LSTM)               (None, 10, 50)            20200     \n",
      "                                                                 \n",
      " dropout_5 (Dropout)         (None, 10, 50)            0         \n",
      "                                                                 \n",
      " lstm_6 (LSTM)               (None, 10, 50)            20200     \n",
      "                                                                 \n",
      " dropout_6 (Dropout)         (None, 10, 50)            0         \n",
      "                                                                 \n",
      " lstm_7 (LSTM)               (None, 50)                20200     \n",
      "                                                                 \n",
      " dropout_7 (Dropout)         (None, 50)                0         \n",
      "                                                                 \n",
      " dense_1 (Dense)             (None, 2)                 102       \n",
      "                                                                 \n",
      "=================================================================\n",
      "Total params: 97,302\n",
      "Trainable params: 97,302\n",
      "Non-trainable params: 0\n",
      "_________________________________________________________________\n"
     ]
    }
   ],
   "source": [
    "model = Sequential([\n",
    "    LSTM(units = 50, return_sequences = True, input_shape=(X_train.shape[1], X_train.shape[2])),\n",
    "    Dropout(0.2),\n",
    "    LSTM(units = 50, return_sequences = True),\n",
    "    Dropout(0.2),\n",
    "    LSTM(units = 50, return_sequences = True),\n",
    "    Dropout(0.2),\n",
    "    LSTM(units = 50),\n",
    "    Dropout(0.2),\n",
    "    Dense(units = len(classes), activation='softmax')\n",
    "])\n",
    "\n",
    "model.compile(\n",
    "    optimizer = 'adam',\n",
    "    metrics = ['accuracy'],\n",
    "    loss = 'categorical_crossentropy'\n",
    ")\n",
    "model.summary()"
   ]
  },
  {
   "cell_type": "markdown",
   "metadata": {},
   "source": [
    "# Training process"
   ]
  },
  {
   "cell_type": "code",
   "execution_count": 16,
   "metadata": {},
   "outputs": [
    {
     "name": "stdout",
     "output_type": "stream",
     "text": [
      "Epoch 1/32\n",
      "15/15 [==============================] - 7s 111ms/step - loss: 0.4089 - accuracy: 0.8941 - val_loss: 0.0932 - val_accuracy: 0.9788\n",
      "Epoch 2/32\n",
      "15/15 [==============================] - 0s 23ms/step - loss: 0.0912 - accuracy: 0.9735 - val_loss: 0.1154 - val_accuracy: 0.9746\n",
      "Epoch 3/32\n",
      "15/15 [==============================] - 0s 24ms/step - loss: 0.0769 - accuracy: 0.9788 - val_loss: 0.1036 - val_accuracy: 0.9746\n",
      "Epoch 4/32\n",
      "15/15 [==============================] - 0s 19ms/step - loss: 0.0532 - accuracy: 0.9883 - val_loss: 0.0821 - val_accuracy: 0.9788\n",
      "Epoch 5/32\n",
      "15/15 [==============================] - 0s 22ms/step - loss: 0.0490 - accuracy: 0.9894 - val_loss: 0.0624 - val_accuracy: 0.9831\n",
      "Epoch 6/32\n",
      "15/15 [==============================] - 0s 23ms/step - loss: 0.0409 - accuracy: 0.9862 - val_loss: 0.0290 - val_accuracy: 0.9831\n",
      "Epoch 7/32\n",
      "15/15 [==============================] - 0s 23ms/step - loss: 0.0314 - accuracy: 0.9915 - val_loss: 0.0737 - val_accuracy: 0.9831\n",
      "Epoch 8/32\n",
      "15/15 [==============================] - 0s 21ms/step - loss: 0.0231 - accuracy: 0.9915 - val_loss: 0.0117 - val_accuracy: 0.9958\n",
      "Epoch 9/32\n",
      "15/15 [==============================] - 0s 21ms/step - loss: 0.0260 - accuracy: 0.9915 - val_loss: 0.0076 - val_accuracy: 1.0000\n",
      "Epoch 10/32\n",
      "15/15 [==============================] - 0s 20ms/step - loss: 0.0094 - accuracy: 0.9979 - val_loss: 0.0674 - val_accuracy: 0.9831\n",
      "Epoch 11/32\n",
      "15/15 [==============================] - 0s 20ms/step - loss: 0.0148 - accuracy: 0.9947 - val_loss: 0.0031 - val_accuracy: 1.0000\n",
      "Epoch 12/32\n",
      "15/15 [==============================] - 0s 19ms/step - loss: 0.0030 - accuracy: 1.0000 - val_loss: 0.0015 - val_accuracy: 1.0000\n",
      "Epoch 13/32\n",
      "15/15 [==============================] - 0s 22ms/step - loss: 0.0015 - accuracy: 1.0000 - val_loss: 0.0059 - val_accuracy: 1.0000\n",
      "Epoch 14/32\n",
      "15/15 [==============================] - 0s 22ms/step - loss: 0.0249 - accuracy: 0.9958 - val_loss: 0.0034 - val_accuracy: 1.0000\n",
      "Epoch 15/32\n",
      "15/15 [==============================] - 0s 22ms/step - loss: 0.0049 - accuracy: 0.9979 - val_loss: 0.0058 - val_accuracy: 1.0000\n",
      "Epoch 16/32\n",
      "15/15 [==============================] - 0s 22ms/step - loss: 0.0140 - accuracy: 0.9936 - val_loss: 0.0167 - val_accuracy: 0.9873\n",
      "Epoch 17/32\n",
      "15/15 [==============================] - 0s 20ms/step - loss: 0.0030 - accuracy: 1.0000 - val_loss: 0.0016 - val_accuracy: 1.0000\n",
      "Epoch 18/32\n",
      "15/15 [==============================] - 0s 20ms/step - loss: 0.0016 - accuracy: 1.0000 - val_loss: 0.0012 - val_accuracy: 1.0000\n",
      "Epoch 19/32\n",
      "15/15 [==============================] - 0s 22ms/step - loss: 7.3330e-04 - accuracy: 1.0000 - val_loss: 4.0750e-04 - val_accuracy: 1.0000\n",
      "Epoch 20/32\n",
      "15/15 [==============================] - 0s 21ms/step - loss: 6.1918e-04 - accuracy: 1.0000 - val_loss: 5.8804e-04 - val_accuracy: 1.0000\n",
      "Epoch 21/32\n",
      "15/15 [==============================] - 0s 20ms/step - loss: 4.1842e-04 - accuracy: 1.0000 - val_loss: 2.4099e-04 - val_accuracy: 1.0000\n",
      "Epoch 22/32\n",
      "15/15 [==============================] - 0s 22ms/step - loss: 4.6217e-04 - accuracy: 1.0000 - val_loss: 2.9192e-04 - val_accuracy: 1.0000\n",
      "Epoch 23/32\n",
      "15/15 [==============================] - 0s 21ms/step - loss: 2.7712e-04 - accuracy: 1.0000 - val_loss: 1.9801e-04 - val_accuracy: 1.0000\n",
      "Epoch 24/32\n",
      "15/15 [==============================] - 0s 21ms/step - loss: 2.6242e-04 - accuracy: 1.0000 - val_loss: 1.5789e-04 - val_accuracy: 1.0000\n",
      "Epoch 25/32\n",
      "15/15 [==============================] - 0s 21ms/step - loss: 2.1770e-04 - accuracy: 1.0000 - val_loss: 1.4442e-04 - val_accuracy: 1.0000\n",
      "Epoch 26/32\n",
      "15/15 [==============================] - 0s 21ms/step - loss: 3.0972e-04 - accuracy: 1.0000 - val_loss: 1.2610e-04 - val_accuracy: 1.0000\n",
      "Epoch 27/32\n",
      "15/15 [==============================] - 0s 21ms/step - loss: 1.9730e-04 - accuracy: 1.0000 - val_loss: 1.3301e-04 - val_accuracy: 1.0000\n",
      "Epoch 28/32\n",
      "15/15 [==============================] - 0s 23ms/step - loss: 1.7978e-04 - accuracy: 1.0000 - val_loss: 1.1850e-04 - val_accuracy: 1.0000\n",
      "Epoch 29/32\n",
      "15/15 [==============================] - 0s 19ms/step - loss: 1.4490e-04 - accuracy: 1.0000 - val_loss: 1.0430e-04 - val_accuracy: 1.0000\n",
      "Epoch 30/32\n",
      "15/15 [==============================] - 0s 21ms/step - loss: 1.5637e-04 - accuracy: 1.0000 - val_loss: 9.9324e-05 - val_accuracy: 1.0000\n",
      "Epoch 31/32\n",
      "15/15 [==============================] - 0s 18ms/step - loss: 1.5451e-04 - accuracy: 1.0000 - val_loss: 8.4455e-05 - val_accuracy: 1.0000\n",
      "Epoch 32/32\n",
      "15/15 [==============================] - 0s 22ms/step - loss: 1.2426e-04 - accuracy: 1.0000 - val_loss: 7.8942e-05 - val_accuracy: 1.0000\n"
     ]
    }
   ],
   "source": [
    "trainingRet = model.fit(\n",
    "    X_train, \n",
    "    y_train,\n",
    "    epochs = N_EPOCH,\n",
    "    batch_size = BATCH_SIZE,\n",
    "    validation_data=(X_test, y_test)\n",
    ")\n",
    "\n",
    "model.save('../models/best.h5')"
   ]
  },
  {
   "cell_type": "markdown",
   "metadata": {},
   "source": [
    "# Plot result"
   ]
  },
  {
   "cell_type": "code",
   "execution_count": 17,
   "metadata": {},
   "outputs": [
    {
     "data": {
      "image/png": "[encoded data removed]",
      "text/plain": [
       "<Figure size 1440x576 with 2 Axes>"
      ]
     },
     "metadata": {
      "needs_background": "light"
     },
     "output_type": "display_data"
    }
   ],
   "source": [
    "hist = trainingRet.history\n",
    "\n",
    "fig, ax = plt.subplots(1, 2, figsize=(20,8))\n",
    "epochs = range(1,N_EPOCH+1)\n",
    "\n",
    "ax[0].plot(epochs,hist['loss'])\n",
    "ax[0].plot(epochs,hist['val_loss'])\n",
    "ax[0].set_ylabel('Loss')\n",
    "ax[0].set_xlabel('Epoch')\n",
    "ax[0].legend(['Train','Test'])\n",
    "\n",
    "ax[1].plot(epochs,hist['accuracy'])\n",
    "ax[1].plot(epochs,hist['val_accuracy'])\n",
    "ax[1].set_ylabel('Acc (%)')\n",
    "ax[1].set_xlabel('Epoch')\n",
    "ax[1].legend(['Train','Test'])\n",
    "\n",
    "plt.show()"
   ]
  }
 ],
 "metadata": {
  "interpreter": {
   "hash": "6b98338bfbd6b20524f8c43b3aa7091e5be3fcc4aaa5313693ceb3747d2cf536"
  },
  "kernelspec": {
   "display_name": "Python 3.9.9 64-bit",
   "language": "python",
   "name": "python3"
  },
  "language_info": {
   "codemirror_mode": {
    "name": "ipython",
    "version": 3
   },
   "file_extension": ".py",
   "mimetype": "text/x-python",
   "name": "python",
   "nbconvert_exporter": "python",
   "pygments_lexer": "ipython3",
   "version": "3.9.9"
  },
  "orig_nbformat": 4
 },
 "nbformat": 4,
 "nbformat_minor": 2
}
