{
 "cells": [
  {
   "cell_type": "markdown",
   "metadata": {},
   "source": [
    "# Libraries"
   ]
  },
  {
   "cell_type": "code",
   "execution_count": 39,
   "metadata": {},
   "outputs": [],
   "source": [
    "import numpy as np\n",
    "import pandas as pd\n",
    "import matplotlib.pyplot as plt\n",
    "import os\n",
    "\n",
    "from config import *\n",
    "\n",
    "from keras.layers import LSTM, Dense, Dropout\n",
    "from keras.models import Sequential\n",
    "\n",
    "from sklearn.model_selection import train_test_split"
   ]
  },
  {
   "cell_type": "markdown",
   "metadata": {},
   "source": [
    "# Read data"
   ]
  },
  {
   "cell_type": "code",
   "execution_count": 40,
   "metadata": {},
   "outputs": [
    {
     "name": "stdout",
     "output_type": "stream",
     "text": [
      "Classes: ['Eye_cover', 'Idle', 'Swing_hand', 'V_hand']\n",
      "          0         1         2         3         4         5         6  \\\n",
      "0  0.565088  0.486628 -1.454600  0.998598  0.595906  0.421384 -1.366111   \n",
      "1  0.560797  0.486507 -0.798694  0.998734  0.591997  0.417369 -0.734179   \n",
      "2  0.555143  0.485822 -0.752496  0.998854  0.586899  0.414073 -0.694277   \n",
      "\n",
      "          7         8         9  ...       122       123       124       125  \\\n",
      "0  0.997587  0.616399  0.423681  ...  0.190608  0.000433  0.759767  3.451916   \n",
      "1  0.997820  0.611810  0.417659  ...  1.072129  0.000390  0.759446  3.431489   \n",
      "2  0.998024  0.606346  0.413350  ...  1.096612  0.000352  0.754640  3.414611   \n",
      "\n",
      "        126       127       128       129       130       131  \n",
      "0 -0.169443  0.000873  0.535946  3.427131 -0.632427  0.001365  \n",
      "1  0.105993  0.000787  0.535968  3.418618  0.347696  0.001230  \n",
      "2  0.146300  0.000710  0.530272  3.408900  0.389341  0.001108  \n",
      "\n",
      "[3 rows x 132 columns]\n"
     ]
    }
   ],
   "source": [
    "data_dir = '../data'\n",
    "files = os.listdir(data_dir)\n",
    "\n",
    "classes = []\n",
    "for path in files:\n",
    "    classes.append(path.split('.')[0])\n",
    "list.sort(classes)\n",
    "\n",
    "\n",
    "df = {}\n",
    "for className in classes:\n",
    "    df[className] = pd.read_csv(os.path.join(data_dir,className+\".csv\"))\n",
    "\n",
    "print(\"Classes: {}\".format(classes))\n",
    "print(df[classes[0]].head(3))"
   ]
  },
  {
   "cell_type": "markdown",
   "metadata": {},
   "source": [
    "# Create train X, Y"
   ]
  },
  {
   "cell_type": "code",
   "execution_count": 41,
   "metadata": {},
   "outputs": [
    {
     "name": "stdout",
     "output_type": "stream",
     "text": [
      "X shape: (2360, 10, 132)\n",
      "y shape: (2360, 4)\n"
     ]
    }
   ],
   "source": [
    "nClass = len(classes)\n",
    "\n",
    "X = []\n",
    "y = []\n",
    "\n",
    "for idx, className in enumerate(classes):\n",
    "    nSample = len(df[className])\n",
    "    for start in range(nSample-N_TIME):\n",
    "        X.append(df[className].iloc[start:start+N_TIME,:])\n",
    "        one_hot = [0]*nClass\n",
    "        one_hot[idx] = 1\n",
    "        y.append(one_hot)\n",
    "\n",
    "X, y = np.array(X), np.array(y)\n",
    "\n",
    "print(\"X shape: {}\".format(X.shape))\n",
    "print(\"y shape: {}\".format(y.shape))"
   ]
  },
  {
   "cell_type": "markdown",
   "metadata": {},
   "source": [
    "# Train test split"
   ]
  },
  {
   "cell_type": "code",
   "execution_count": 42,
   "metadata": {},
   "outputs": [
    {
     "name": "stdout",
     "output_type": "stream",
     "text": [
      "[Train]\n",
      "X shape: (1888, 10, 132)\n",
      "y shape: (1888, 4)\n",
      "[Test]\n",
      "X shape: (472, 10, 132)\n",
      "y shape: (472, 4)\n"
     ]
    }
   ],
   "source": [
    "X_train, X_test, y_train, y_test = train_test_split(X, y, test_size = 0.2)\n",
    "\n",
    "print(\"[Train]\")\n",
    "print(\"X shape: {}\".format(X_train.shape))\n",
    "print(\"y shape: {}\".format(y_train.shape))\n",
    "\n",
    "print(\"[Test]\")\n",
    "print(\"X shape: {}\".format(X_test.shape))\n",
    "print(\"y shape: {}\".format(y_test.shape))"
   ]
  },
  {
   "cell_type": "markdown",
   "metadata": {},
   "source": [
    "# Modeling"
   ]
  },
  {
   "cell_type": "code",
   "execution_count": 43,
   "metadata": {},
   "outputs": [
    {
     "name": "stdout",
     "output_type": "stream",
     "text": [
      "Model: \"sequential_5\"\n",
      "_________________________________________________________________\n",
      " Layer (type)                Output Shape              Param #   \n",
      "=================================================================\n",
      " lstm_20 (LSTM)              (None, 10, 50)            36600     \n",
      "                                                                 \n",
      " dropout_20 (Dropout)        (None, 10, 50)            0         \n",
      "                                                                 \n",
      " lstm_21 (LSTM)              (None, 10, 50)            20200     \n",
      "                                                                 \n",
      " dropout_21 (Dropout)        (None, 10, 50)            0         \n",
      "                                                                 \n",
      " lstm_22 (LSTM)              (None, 10, 50)            20200     \n",
      "                                                                 \n",
      " dropout_22 (Dropout)        (None, 10, 50)            0         \n",
      "                                                                 \n",
      " lstm_23 (LSTM)              (None, 50)                20200     \n",
      "                                                                 \n",
      " dropout_23 (Dropout)        (None, 50)                0         \n",
      "                                                                 \n",
      " dense_5 (Dense)             (None, 4)                 204       \n",
      "                                                                 \n",
      "=================================================================\n",
      "Total params: 97,404\n",
      "Trainable params: 97,404\n",
      "Non-trainable params: 0\n",
      "_________________________________________________________________\n"
     ]
    }
   ],
   "source": [
    "model = Sequential([\n",
    "    LSTM(units = 50, return_sequences = True, input_shape=(X_train.shape[1], X_train.shape[2])),\n",
    "    Dropout(0.2),\n",
    "    LSTM(units = 50, return_sequences = True),\n",
    "    Dropout(0.2),\n",
    "    LSTM(units = 50, return_sequences = True),\n",
    "    Dropout(0.2),\n",
    "    LSTM(units = 50),\n",
    "    Dropout(0.2),\n",
    "    Dense(units = len(classes), activation='softmax')\n",
    "])\n",
    "\n",
    "model.compile(\n",
    "    optimizer = 'adam',\n",
    "    metrics = ['accuracy'],\n",
    "    loss = 'categorical_crossentropy'\n",
    ")\n",
    "model.summary()"
   ]
  },
  {
   "cell_type": "markdown",
   "metadata": {},
   "source": [
    "# Training process"
   ]
  },
  {
   "cell_type": "code",
   "execution_count": 44,
   "metadata": {},
   "outputs": [
    {
     "name": "stdout",
     "output_type": "stream",
     "text": [
      "Epoch 1/32\n",
      "30/30 [==============================] - 6s 59ms/step - loss: 0.9398 - accuracy: 0.7029 - val_loss: 0.4637 - val_accuracy: 0.8602\n",
      "Epoch 2/32\n",
      "30/30 [==============================] - 1s 24ms/step - loss: 0.3503 - accuracy: 0.8967 - val_loss: 0.2319 - val_accuracy: 0.9131\n",
      "Epoch 3/32\n",
      "30/30 [==============================] - 1s 23ms/step - loss: 0.2378 - accuracy: 0.9333 - val_loss: 0.1730 - val_accuracy: 0.9597\n",
      "Epoch 4/32\n",
      "30/30 [==============================] - 1s 22ms/step - loss: 0.2403 - accuracy: 0.9338 - val_loss: 0.1253 - val_accuracy: 0.9682\n",
      "Epoch 5/32\n",
      "30/30 [==============================] - 1s 23ms/step - loss: 0.1589 - accuracy: 0.9560 - val_loss: 0.1164 - val_accuracy: 0.9661\n",
      "Epoch 6/32\n",
      "30/30 [==============================] - 1s 23ms/step - loss: 0.1579 - accuracy: 0.9560 - val_loss: 0.1243 - val_accuracy: 0.9619\n",
      "Epoch 7/32\n",
      "30/30 [==============================] - 1s 22ms/step - loss: 0.1219 - accuracy: 0.9677 - val_loss: 0.0899 - val_accuracy: 0.9746\n",
      "Epoch 8/32\n",
      "30/30 [==============================] - 1s 22ms/step - loss: 0.0970 - accuracy: 0.9735 - val_loss: 0.0842 - val_accuracy: 0.9767\n",
      "Epoch 9/32\n",
      "30/30 [==============================] - 1s 23ms/step - loss: 0.0997 - accuracy: 0.9709 - val_loss: 0.1053 - val_accuracy: 0.9682\n",
      "Epoch 10/32\n",
      "30/30 [==============================] - 1s 21ms/step - loss: 0.0919 - accuracy: 0.9709 - val_loss: 0.0665 - val_accuracy: 0.9767\n",
      "Epoch 11/32\n",
      "30/30 [==============================] - 1s 22ms/step - loss: 0.1147 - accuracy: 0.9688 - val_loss: 0.0882 - val_accuracy: 0.9767\n",
      "Epoch 12/32\n",
      "30/30 [==============================] - 1s 21ms/step - loss: 0.0995 - accuracy: 0.9709 - val_loss: 0.0820 - val_accuracy: 0.9767\n",
      "Epoch 13/32\n",
      "30/30 [==============================] - 1s 22ms/step - loss: 0.0883 - accuracy: 0.9730 - val_loss: 0.0552 - val_accuracy: 0.9767\n",
      "Epoch 14/32\n",
      "30/30 [==============================] - 1s 23ms/step - loss: 0.1236 - accuracy: 0.9597 - val_loss: 0.1182 - val_accuracy: 0.9703\n",
      "Epoch 15/32\n",
      "30/30 [==============================] - 1s 22ms/step - loss: 0.0949 - accuracy: 0.9709 - val_loss: 0.0322 - val_accuracy: 0.9979\n",
      "Epoch 16/32\n",
      "30/30 [==============================] - 1s 23ms/step - loss: 0.0363 - accuracy: 0.9873 - val_loss: 0.0282 - val_accuracy: 0.9873\n",
      "Epoch 17/32\n",
      "30/30 [==============================] - 1s 22ms/step - loss: 0.1154 - accuracy: 0.9709 - val_loss: 0.0364 - val_accuracy: 0.9979\n",
      "Epoch 18/32\n",
      "30/30 [==============================] - 1s 23ms/step - loss: 0.0502 - accuracy: 0.9841 - val_loss: 0.0188 - val_accuracy: 0.9979\n",
      "Epoch 19/32\n",
      "30/30 [==============================] - 1s 22ms/step - loss: 0.0299 - accuracy: 0.9921 - val_loss: 0.0153 - val_accuracy: 0.9979\n",
      "Epoch 20/32\n",
      "30/30 [==============================] - 1s 21ms/step - loss: 0.0107 - accuracy: 0.9984 - val_loss: 0.0140 - val_accuracy: 0.9979\n",
      "Epoch 21/32\n",
      "30/30 [==============================] - 1s 23ms/step - loss: 0.0087 - accuracy: 0.9968 - val_loss: 0.0140 - val_accuracy: 0.9979\n",
      "Epoch 22/32\n",
      "30/30 [==============================] - 1s 22ms/step - loss: 0.0069 - accuracy: 0.9989 - val_loss: 0.0146 - val_accuracy: 0.9979\n",
      "Epoch 23/32\n",
      "30/30 [==============================] - 1s 23ms/step - loss: 0.1005 - accuracy: 0.9783 - val_loss: 0.1219 - val_accuracy: 0.9725\n",
      "Epoch 24/32\n",
      "30/30 [==============================] - 1s 23ms/step - loss: 0.1198 - accuracy: 0.9682 - val_loss: 0.0871 - val_accuracy: 0.9725\n",
      "Epoch 25/32\n",
      "30/30 [==============================] - 1s 22ms/step - loss: 0.0421 - accuracy: 0.9931 - val_loss: 0.0181 - val_accuracy: 0.9958\n",
      "Epoch 26/32\n",
      "30/30 [==============================] - 1s 21ms/step - loss: 0.0104 - accuracy: 0.9979 - val_loss: 0.0135 - val_accuracy: 0.9979\n",
      "Epoch 27/32\n",
      "30/30 [==============================] - 1s 24ms/step - loss: 0.0035 - accuracy: 1.0000 - val_loss: 0.0134 - val_accuracy: 0.9979\n",
      "Epoch 28/32\n",
      "30/30 [==============================] - 1s 21ms/step - loss: 0.0026 - accuracy: 1.0000 - val_loss: 0.0137 - val_accuracy: 0.9979\n",
      "Epoch 29/32\n",
      "30/30 [==============================] - 1s 22ms/step - loss: 0.0022 - accuracy: 1.0000 - val_loss: 0.0139 - val_accuracy: 0.9979\n",
      "Epoch 30/32\n",
      "30/30 [==============================] - 1s 22ms/step - loss: 0.0019 - accuracy: 1.0000 - val_loss: 0.0141 - val_accuracy: 0.9979\n",
      "Epoch 31/32\n",
      "30/30 [==============================] - 1s 22ms/step - loss: 0.0016 - accuracy: 1.0000 - val_loss: 0.0143 - val_accuracy: 0.9979\n",
      "Epoch 32/32\n",
      "30/30 [==============================] - 1s 22ms/step - loss: 0.0015 - accuracy: 1.0000 - val_loss: 0.0145 - val_accuracy: 0.9979\n"
     ]
    }
   ],
   "source": [
    "trainingRet = model.fit(\n",
    "    X_train, \n",
    "    y_train,\n",
    "    epochs = N_EPOCH,\n",
    "    batch_size = BATCH_SIZE,\n",
    "    validation_data=(X_test, y_test)\n",
    ")\n",
    "\n",
    "model.save('../models/best.h5')"
   ]
  },
  {
   "cell_type": "markdown",
   "metadata": {},
   "source": [
    "# Plot result"
   ]
  },
  {
   "cell_type": "code",
   "execution_count": 45,
   "metadata": {},
   "outputs": [
    {
     "data": {
      "image/png": "[encoded data removed]",
      "text/plain": [
       "<Figure size 1440x576 with 2 Axes>"
      ]
     },
     "metadata": {
      "needs_background": "light"
     },
     "output_type": "display_data"
    }
   ],
   "source": [
    "hist = trainingRet.history\n",
    "\n",
    "fig, ax = plt.subplots(1, 2, figsize=(20,8))\n",
    "epochs = range(1,N_EPOCH+1)\n",
    "\n",
    "ax[0].plot(epochs,hist['loss'])\n",
    "ax[0].plot(epochs,hist['val_loss'])\n",
    "ax[0].set_ylabel('Loss')\n",
    "ax[0].set_xlabel('Epoch')\n",
    "ax[0].legend(['Train','Test'])\n",
    "\n",
    "ax[1].plot(epochs,hist['accuracy'])\n",
    "ax[1].plot(epochs,hist['val_accuracy'])\n",
    "ax[1].set_ylabel('Acc (%)')\n",
    "ax[1].set_xlabel('Epoch')\n",
    "ax[1].legend(['Train','Test'])\n",
    "\n",
    "plt.show()"
   ]
  }
 ],
 "metadata": {
  "interpreter": {
   "hash": "6b98338bfbd6b20524f8c43b3aa7091e5be3fcc4aaa5313693ceb3747d2cf536"
  },
  "kernelspec": {
   "display_name": "Python 3.9.9 64-bit",
   "language": "python",
   "name": "python3"
  },
  "language_info": {
   "codemirror_mode": {
    "name": "ipython",
    "version": 3
   },
   "file_extension": ".py",
   "mimetype": "text/x-python",
   "name": "python",
   "nbconvert_exporter": "python",
   "pygments_lexer": "ipython3",
   "version": "3.9.9"
  },
  "orig_nbformat": 4
 },
 "nbformat": 4,
 "nbformat_minor": 2
}
