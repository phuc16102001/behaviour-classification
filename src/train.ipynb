{
 "cells": [
  {
   "cell_type": "markdown",
   "metadata": {},
   "source": [
    "# Libraries"
   ]
  },
  {
   "cell_type": "code",
   "execution_count": 8,
   "metadata": {},
   "outputs": [],
   "source": [
    "import numpy as np\n",
    "import pandas as pd\n",
    "import matplotlib.pyplot as plt\n",
    "import os\n",
    "\n",
    "from config import *\n",
    "\n",
    "from keras.layers import LSTM, Dense, Dropout\n",
    "from keras.models import Sequential\n",
    "\n",
    "from sklearn.model_selection import train_test_split"
   ]
  },
  {
   "cell_type": "markdown",
   "metadata": {},
   "source": [
    "# Read data"
   ]
  },
  {
   "cell_type": "code",
   "execution_count": 9,
   "metadata": {},
   "outputs": [
    {
     "name": "stdout",
     "output_type": "stream",
     "text": [
      "Classes: ['Swing_hand', 'Nod_head']\n",
      "          0         1         2         3         4         5         6  \\\n",
      "0  0.542020  0.564723 -1.102557  0.999961  0.573140  0.499020 -1.057262   \n",
      "1  0.543472  0.545153 -1.138825  0.999957  0.577044  0.484092 -1.081547   \n",
      "2  0.544545  0.536801 -1.134046  0.999956  0.578777  0.477000 -1.079495   \n",
      "\n",
      "          7         8         9  ...       122       123       124       125  \\\n",
      "0  0.999924  0.592175  0.501668  ...  1.223186  0.000012  0.660932  2.967199   \n",
      "1  0.999918  0.595909  0.488044  ...  0.901236  0.000014  0.672671  2.960815   \n",
      "2  0.999915  0.597525  0.480905  ...  0.985008  0.000015  0.672196  2.953565   \n",
      "\n",
      "        126       127       128       129       130       131  \n",
      "0  0.315049  0.000037  0.487768  2.957272  0.540598  0.000037  \n",
      "1  0.291029  0.000040  0.501141  2.952441  0.210714  0.000041  \n",
      "2  0.291966  0.000042  0.500692  2.946454  0.298201  0.000043  \n",
      "\n",
      "[3 rows x 132 columns]\n"
     ]
    }
   ],
   "source": [
    "data_dir = '../data'\n",
    "files = os.listdir(data_dir)\n",
    "\n",
    "df = {}\n",
    "for path in files:\n",
    "    className = path.split('.')[0]\n",
    "    df[className] = pd.read_csv(os.path.join(data_dir,path))\n",
    "\n",
    "classes = list(df.keys())\n",
    "print(\"Classes: {}\".format(classes))\n",
    "print(df[classes[0]].head(3))"
   ]
  },
  {
   "cell_type": "markdown",
   "metadata": {},
   "source": [
    "# Create train X, Y"
   ]
  },
  {
   "cell_type": "code",
   "execution_count": 10,
   "metadata": {},
   "outputs": [
    {
     "name": "stdout",
     "output_type": "stream",
     "text": [
      "X shape: (1180, 10, 132)\n",
      "y shape: (1180, 2)\n"
     ]
    }
   ],
   "source": [
    "nClass = len(classes)\n",
    "\n",
    "X = []\n",
    "y = []\n",
    "\n",
    "for idx, className in enumerate(classes):\n",
    "    nSample = len(df[className])\n",
    "    for start in range(nSample-N_TIME):\n",
    "        X.append(df[className].iloc[start:start+N_TIME,:])\n",
    "        one_hot = [0]*nClass\n",
    "        one_hot[idx] = 1\n",
    "        y.append(one_hot)\n",
    "\n",
    "X, y = np.array(X), np.array(y)\n",
    "\n",
    "print(\"X shape: {}\".format(X.shape))\n",
    "print(\"y shape: {}\".format(y.shape))"
   ]
  },
  {
   "cell_type": "markdown",
   "metadata": {},
   "source": [
    "# Train test split"
   ]
  },
  {
   "cell_type": "code",
   "execution_count": 11,
   "metadata": {},
   "outputs": [
    {
     "name": "stdout",
     "output_type": "stream",
     "text": [
      "[Train]\n",
      "X shape: (944, 10, 132)\n",
      "y shape: (944, 2)\n",
      "[Test]\n",
      "X shape: (236, 10, 132)\n",
      "y shape: (236, 2)\n"
     ]
    }
   ],
   "source": [
    "X_train, X_test, y_train, y_test = train_test_split(X, y, test_size = 0.2)\n",
    "\n",
    "print(\"[Train]\")\n",
    "print(\"X shape: {}\".format(X_train.shape))\n",
    "print(\"y shape: {}\".format(y_train.shape))\n",
    "\n",
    "print(\"[Test]\")\n",
    "print(\"X shape: {}\".format(X_test.shape))\n",
    "print(\"y shape: {}\".format(y_test.shape))"
   ]
  },
  {
   "cell_type": "markdown",
   "metadata": {},
   "source": [
    "# Modeling"
   ]
  },
  {
   "cell_type": "code",
   "execution_count": 12,
   "metadata": {},
   "outputs": [
    {
     "name": "stdout",
     "output_type": "stream",
     "text": [
      "Model: \"sequential_1\"\n",
      "_________________________________________________________________\n",
      " Layer (type)                Output Shape              Param #   \n",
      "=================================================================\n",
      " lstm_4 (LSTM)               (None, 10, 50)            36600     \n",
      "                                                                 \n",
      " dropout_4 (Dropout)         (None, 10, 50)            0         \n",
      "                                                                 \n",
      " lstm_5 (LSTM)               (None, 10, 50)            20200     \n",
      "                                                                 \n",
      " dropout_5 (Dropout)         (None, 10, 50)            0         \n",
      "                                                                 \n",
      " lstm_6 (LSTM)               (None, 10, 50)            20200     \n",
      "                                                                 \n",
      " dropout_6 (Dropout)         (None, 10, 50)            0         \n",
      "                                                                 \n",
      " lstm_7 (LSTM)               (None, 50)                20200     \n",
      "                                                                 \n",
      " dropout_7 (Dropout)         (None, 50)                0         \n",
      "                                                                 \n",
      " dense_1 (Dense)             (None, 2)                 102       \n",
      "                                                                 \n",
      "=================================================================\n",
      "Total params: 97,302\n",
      "Trainable params: 97,302\n",
      "Non-trainable params: 0\n",
      "_________________________________________________________________\n"
     ]
    }
   ],
   "source": [
    "model = Sequential([\n",
    "    LSTM(units = 50, return_sequences = True, input_shape=(X_train.shape[1], X_train.shape[2])),\n",
    "    Dropout(0.2),\n",
    "    LSTM(units = 50, return_sequences = True),\n",
    "    Dropout(0.2),\n",
    "    LSTM(units = 50, return_sequences = True),\n",
    "    Dropout(0.2),\n",
    "    LSTM(units = 50),\n",
    "    Dropout(0.2),\n",
    "    Dense(units = len(classes), activation='softmax')\n",
    "])\n",
    "\n",
    "model.compile(\n",
    "    optimizer = 'adam',\n",
    "    metrics = ['accuracy'],\n",
    "    loss = 'categorical_crossentropy'\n",
    ")\n",
    "model.summary()"
   ]
  },
  {
   "cell_type": "markdown",
   "metadata": {},
   "source": [
    "# Training process"
   ]
  },
  {
   "cell_type": "code",
   "execution_count": 13,
   "metadata": {},
   "outputs": [
    {
     "name": "stdout",
     "output_type": "stream",
     "text": [
      "Epoch 1/32\n",
      "15/15 [==============================] - 7s 101ms/step - loss: 0.4407 - accuracy: 0.8739 - val_loss: 0.0581 - val_accuracy: 0.9915\n",
      "Epoch 2/32\n",
      "15/15 [==============================] - 0s 23ms/step - loss: 0.0753 - accuracy: 0.9820 - val_loss: 0.0472 - val_accuracy: 0.9915\n",
      "Epoch 3/32\n",
      "15/15 [==============================] - 0s 23ms/step - loss: 0.0711 - accuracy: 0.9852 - val_loss: 0.0415 - val_accuracy: 0.9915\n",
      "Epoch 4/32\n",
      "15/15 [==============================] - 0s 21ms/step - loss: 0.0539 - accuracy: 0.9862 - val_loss: 0.0306 - val_accuracy: 0.9915\n",
      "Epoch 5/32\n",
      "15/15 [==============================] - 0s 24ms/step - loss: 0.0725 - accuracy: 0.9831 - val_loss: 0.0497 - val_accuracy: 0.9873\n",
      "Epoch 6/32\n",
      "15/15 [==============================] - 0s 22ms/step - loss: 0.0733 - accuracy: 0.9841 - val_loss: 0.0437 - val_accuracy: 0.9915\n",
      "Epoch 7/32\n",
      "15/15 [==============================] - 0s 22ms/step - loss: 0.0608 - accuracy: 0.9862 - val_loss: 0.0350 - val_accuracy: 0.9873\n",
      "Epoch 8/32\n",
      "15/15 [==============================] - 0s 19ms/step - loss: 0.0380 - accuracy: 0.9894 - val_loss: 0.0160 - val_accuracy: 0.9958\n",
      "Epoch 9/32\n",
      "15/15 [==============================] - 0s 19ms/step - loss: 0.0259 - accuracy: 0.9926 - val_loss: 0.0096 - val_accuracy: 0.9958\n",
      "Epoch 10/32\n",
      "15/15 [==============================] - 0s 23ms/step - loss: 0.0117 - accuracy: 0.9968 - val_loss: 0.0117 - val_accuracy: 0.9958\n",
      "Epoch 11/32\n",
      "15/15 [==============================] - 0s 21ms/step - loss: 0.0453 - accuracy: 0.9873 - val_loss: 0.0551 - val_accuracy: 0.9915\n",
      "Epoch 12/32\n",
      "15/15 [==============================] - 0s 22ms/step - loss: 0.0720 - accuracy: 0.9852 - val_loss: 0.0413 - val_accuracy: 0.9915\n",
      "Epoch 13/32\n",
      "15/15 [==============================] - 0s 21ms/step - loss: 0.0571 - accuracy: 0.9862 - val_loss: 0.0377 - val_accuracy: 0.9915\n",
      "Epoch 14/32\n",
      "15/15 [==============================] - 0s 21ms/step - loss: 0.0410 - accuracy: 0.9873 - val_loss: 0.0194 - val_accuracy: 0.9915\n",
      "Epoch 15/32\n",
      "15/15 [==============================] - 0s 21ms/step - loss: 0.0190 - accuracy: 0.9926 - val_loss: 0.0477 - val_accuracy: 0.9915\n",
      "Epoch 16/32\n",
      "15/15 [==============================] - 0s 22ms/step - loss: 0.0609 - accuracy: 0.9894 - val_loss: 0.0149 - val_accuracy: 0.9915\n",
      "Epoch 17/32\n",
      "15/15 [==============================] - 0s 24ms/step - loss: 0.0175 - accuracy: 0.9936 - val_loss: 0.0104 - val_accuracy: 0.9915\n",
      "Epoch 18/32\n",
      "15/15 [==============================] - 0s 20ms/step - loss: 0.0095 - accuracy: 0.9968 - val_loss: 0.0041 - val_accuracy: 1.0000\n",
      "Epoch 19/32\n",
      "15/15 [==============================] - 0s 21ms/step - loss: 0.0018 - accuracy: 1.0000 - val_loss: 8.5981e-04 - val_accuracy: 1.0000\n",
      "Epoch 20/32\n",
      "15/15 [==============================] - 0s 18ms/step - loss: 0.0012 - accuracy: 1.0000 - val_loss: 5.9109e-04 - val_accuracy: 1.0000\n",
      "Epoch 21/32\n",
      "15/15 [==============================] - 0s 21ms/step - loss: 0.0018 - accuracy: 1.0000 - val_loss: 5.5453e-04 - val_accuracy: 1.0000\n",
      "Epoch 22/32\n",
      "15/15 [==============================] - 0s 22ms/step - loss: 9.4548e-04 - accuracy: 1.0000 - val_loss: 4.6788e-04 - val_accuracy: 1.0000\n",
      "Epoch 23/32\n",
      "15/15 [==============================] - 0s 22ms/step - loss: 5.3448e-04 - accuracy: 1.0000 - val_loss: 2.8339e-04 - val_accuracy: 1.0000\n",
      "Epoch 24/32\n",
      "15/15 [==============================] - 0s 22ms/step - loss: 4.7121e-04 - accuracy: 1.0000 - val_loss: 4.3249e-04 - val_accuracy: 1.0000\n",
      "Epoch 25/32\n",
      "15/15 [==============================] - 0s 21ms/step - loss: 5.6005e-04 - accuracy: 1.0000 - val_loss: 1.6369e-04 - val_accuracy: 1.0000\n",
      "Epoch 26/32\n",
      "15/15 [==============================] - 0s 21ms/step - loss: 2.4592e-04 - accuracy: 1.0000 - val_loss: 2.4604e-04 - val_accuracy: 1.0000\n",
      "Epoch 27/32\n",
      "15/15 [==============================] - 0s 19ms/step - loss: 2.9122e-04 - accuracy: 1.0000 - val_loss: 1.2952e-04 - val_accuracy: 1.0000\n",
      "Epoch 28/32\n",
      "15/15 [==============================] - 0s 21ms/step - loss: 2.4040e-04 - accuracy: 1.0000 - val_loss: 1.1626e-04 - val_accuracy: 1.0000\n",
      "Epoch 29/32\n",
      "15/15 [==============================] - 0s 20ms/step - loss: 2.0156e-04 - accuracy: 1.0000 - val_loss: 1.0303e-04 - val_accuracy: 1.0000\n",
      "Epoch 30/32\n",
      "15/15 [==============================] - 0s 19ms/step - loss: 1.6754e-04 - accuracy: 1.0000 - val_loss: 9.6272e-05 - val_accuracy: 1.0000\n",
      "Epoch 31/32\n",
      "15/15 [==============================] - 0s 20ms/step - loss: 1.6484e-04 - accuracy: 1.0000 - val_loss: 9.0373e-05 - val_accuracy: 1.0000\n",
      "Epoch 32/32\n",
      "15/15 [==============================] - 0s 20ms/step - loss: 1.5876e-04 - accuracy: 1.0000 - val_loss: 8.1816e-05 - val_accuracy: 1.0000\n"
     ]
    }
   ],
   "source": [
    "trainingRet = model.fit(\n",
    "    X_train, \n",
    "    y_train,\n",
    "    epochs = N_EPOCH,\n",
    "    batch_size = BATCH_SIZE,\n",
    "    validation_data=(X_test, y_test)\n",
    ")\n",
    "\n",
    "model.save('../models/best.h5')"
   ]
  },
  {
   "cell_type": "markdown",
   "metadata": {},
   "source": [
    "# Plot result"
   ]
  },
  {
   "cell_type": "code",
   "execution_count": 14,
   "metadata": {},
   "outputs": [
    {
     "data": {
      "image/png": "[encoded data removed]",
      "text/plain": [
       "<Figure size 1440x576 with 2 Axes>"
      ]
     },
     "metadata": {
      "needs_background": "light"
     },
     "output_type": "display_data"
    }
   ],
   "source": [
    "hist = trainingRet.history\n",
    "\n",
    "fig, ax = plt.subplots(1, 2, figsize=(20,8))\n",
    "epochs = range(1,N_EPOCH+1)\n",
    "\n",
    "ax[0].plot(epochs,hist['loss'])\n",
    "ax[0].plot(epochs,hist['val_loss'])\n",
    "ax[0].set_ylabel('Loss')\n",
    "ax[0].set_xlabel('Epoch')\n",
    "ax[0].legend(['Train','Test'])\n",
    "\n",
    "ax[1].plot(epochs,hist['accuracy'])\n",
    "ax[1].plot(epochs,hist['val_accuracy'])\n",
    "ax[1].set_ylabel('Acc (%)')\n",
    "ax[1].set_xlabel('Epoch')\n",
    "ax[1].legend(['Train','Test'])\n",
    "\n",
    "plt.show()"
   ]
  }
 ],
 "metadata": {
  "interpreter": {
   "hash": "6b98338bfbd6b20524f8c43b3aa7091e5be3fcc4aaa5313693ceb3747d2cf536"
  },
  "kernelspec": {
   "display_name": "Python 3.9.9 64-bit",
   "language": "python",
   "name": "python3"
  },
  "language_info": {
   "codemirror_mode": {
    "name": "ipython",
    "version": 3
   },
   "file_extension": ".py",
   "mimetype": "text/x-python",
   "name": "python",
   "nbconvert_exporter": "python",
   "pygments_lexer": "ipython3",
   "version": "3.9.9"
  },
  "orig_nbformat": 4
 },
 "nbformat": 4,
 "nbformat_minor": 2
}
